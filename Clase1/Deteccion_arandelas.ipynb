{
 "cells": [
  {
   "cell_type": "markdown",
   "metadata": {
    "slideshow": {
     "slide_type": "slide"
    }
   },
   "source": [
    "# Ejercitación espacios de color\n",
    "\n",
    "Segmentación por color"
   ]
  },
  {
   "cell_type": "code",
   "execution_count": 1,
   "metadata": {},
   "outputs": [
    {
     "name": "stdout",
     "output_type": "stream",
     "text": [
      "Using matplotlib backend: Qt5Agg\n"
     ]
    }
   ],
   "source": [
    "#Si queremos que las imágenes sean mostradas en una ventana emergente quitar el inline\n",
    "%matplotlib\n",
    "\n",
    "# OpenCV-Python utiliza NumPy para el manejo de imágenes\n",
    "import numpy as np\n",
    "# cv2 es el módulo python para acceder a OpenCV \n",
    "import cv2 as cv\n",
    "# Usamos las poderosas herramientas de graficación de matplotlib para mostrar imágenes, perfiles, histogramas, etc\n",
    "import matplotlib.pyplot as plt\n"
   ]
  },
  {
   "cell_type": "code",
   "execution_count": 120,
   "metadata": {},
   "outputs": [],
   "source": [
    "# Cargar la imagen color\n",
    "#-----------------------\n",
    "img_color = cv.imread('arandelas.png')\n",
    "imgRGB = cv.cvtColor(img_color, cv.COLOR_BGR2RGB)\n",
    "\n",
    "plt.figure(1)\n",
    "plt.imshow(imgRGB)\n",
    "plt.show()"
   ]
  },
  {
   "cell_type": "code",
   "execution_count": 97,
   "metadata": {},
   "outputs": [],
   "source": [
    "#Recortamos tablero verde, filas 180 - 580, columnas  130-450\n",
    "img_cut=imgRGB[180:580,130:450]\n",
    "plt.figure(2)\n",
    "plt.imshow(img_cut)\n",
    "plt.show()"
   ]
  },
  {
   "cell_type": "code",
   "execution_count": 26,
   "metadata": {},
   "outputs": [
    {
     "data": {
      "text/plain": [
       "[<matplotlib.lines.Line2D at 0x26b1dc44a90>]"
      ]
     },
     "execution_count": 26,
     "metadata": {},
     "output_type": "execute_result"
    }
   ],
   "source": [
    "#Tratamos de separar arandelas rojas\n",
    "# Vemos arandela roja en col 203 filas 85-120\n",
    "idx_col=203\n",
    "perfil_color = img_cut[:,idx_col]\n",
    "plt.figure(3)\n",
    "plt.plot(perfil_color[:,0],color='r',label='canal rojo')\n",
    "plt.plot(perfil_color[:,1],color='g',label='canal verde')\n",
    "plt.plot(perfil_color[:,2],color='b',label='canal azul')\n"
   ]
  },
  {
   "cell_type": "code",
   "execution_count": 122,
   "metadata": {},
   "outputs": [],
   "source": [
    "#Puedo extraer con roja >125\n",
    "mask_rojas = cv.inRange(img_cut, (140,50,60),  (160,80,90))\n",
    "arandelas_rojas = cv.bitwise_and(img_cut, img_cut, mask=mask_rojas)\n",
    "plt.figure(4)\n",
    "plt.imshow(arandelas_rojas)\n",
    "plt.show()\n",
    "#Extrae bastante bien"
   ]
  },
  {
   "cell_type": "code",
   "execution_count": 36,
   "metadata": {},
   "outputs": [
    {
     "data": {
      "text/plain": [
       "[<matplotlib.lines.Line2D at 0x26b1a9e1c10>]"
      ]
     },
     "execution_count": 36,
     "metadata": {},
     "output_type": "execute_result"
    }
   ],
   "source": [
    "#Tratamos de separar arandelas naranjas\n",
    "# Vemos arandela roja en col 158 filas 230-270\n",
    "idx_col=158\n",
    "perfil_color = img_cut[:,idx_col]\n",
    "plt.figure(5)\n",
    "plt.plot(perfil_color[:,0],color='r',label='canal rojo')\n",
    "plt.plot(perfil_color[:,1],color='g',label='canal verde')\n",
    "plt.plot(perfil_color[:,2],color='b',label='canal azul')"
   ]
  },
  {
   "cell_type": "code",
   "execution_count": 94,
   "metadata": {},
   "outputs": [],
   "source": [
    "#Puedo extraer con roja 170-220\n",
    "mask_naranjas = cv.inRange(img_cut, (170,90,25),  (220,150,82))\n",
    "arandelas_naranjas = cv.bitwise_and(img_cut, img_cut, mask=mask_naranjas)\n",
    "plt.figure(6)\n",
    "plt.imshow(arandelas_naranjas)\n",
    "plt.show()\n",
    "#Extrae bastante bien"
   ]
  },
  {
   "cell_type": "code",
   "execution_count": 44,
   "metadata": {
    "scrolled": true
   },
   "outputs": [
    {
     "data": {
      "text/plain": [
       "[<matplotlib.lines.Line2D at 0x26b1aa2f3d0>]"
      ]
     },
     "execution_count": 44,
     "metadata": {},
     "output_type": "execute_result"
    }
   ],
   "source": [
    "#Tratamos de separar arandelas azules\n",
    "# Vemos arandela roja en col 270  filas 290-2320\n",
    "idx_col=270\n",
    "perfil_color = img_cut[:,idx_col]\n",
    "plt.figure(7)\n",
    "plt.plot(perfil_color[:,0],color='r',label='canal rojo')\n",
    "plt.plot(perfil_color[:,1],color='g',label='canal verde')\n",
    "plt.plot(perfil_color[:,2],color='b',label='canal azul')"
   ]
  },
  {
   "cell_type": "code",
   "execution_count": 49,
   "metadata": {},
   "outputs": [],
   "source": [
    "#Puedo extraer con azul 140-183\n",
    "mask_azules = cv.inRange(img_cut, (0,35,135),  (50,90,183))\n",
    "arandelas_azules = cv.bitwise_and(img_cut, img_cut, mask=mask_azules)\n",
    "plt.figure(8)\n",
    "plt.imshow(arandelas_azules)\n",
    "plt.show()\n",
    "#Extrae bastante mal"
   ]
  },
  {
   "cell_type": "code",
   "execution_count": 59,
   "metadata": {},
   "outputs": [
    {
     "data": {
      "text/plain": [
       "[<matplotlib.lines.Line2D at 0x26b2de86f70>]"
      ]
     },
     "execution_count": 59,
     "metadata": {},
     "output_type": "execute_result"
    }
   ],
   "source": [
    "# Pruebo con HSV\n",
    "#------------------------------------------------------\n",
    "img_HSV = cv.cvtColor(img_cut, cv.COLOR_BGR2HSV)\n",
    "\n",
    "idx_col=270\n",
    "perfil_hsv = img_HSV[:,idx_col]\n",
    "plt.figure(9)\n",
    "plt.plot(perfil_hsv[:,0],color='r',label='canal h')\n",
    "plt.plot(perfil_hsv[:,1],color='g',label='canal s')\n",
    "plt.plot(perfil_hsv[:,2],color='b',label='canal v')"
   ]
  },
  {
   "cell_type": "code",
   "execution_count": 92,
   "metadata": {},
   "outputs": [
    {
     "data": {
      "text/plain": [
       "[<matplotlib.lines.Line2D at 0x26b2dcdbfa0>]"
      ]
     },
     "execution_count": 92,
     "metadata": {},
     "output_type": "execute_result"
    }
   ],
   "source": [
    "#Probamos la fila 164\n",
    "idx_col=165\n",
    "perfil_hsv = img_HSV[:,idx_col]\n",
    "plt.figure(10)\n",
    "plt.plot(perfil_hsv[:,0],color='r',label='canal h')\n",
    "plt.plot(perfil_hsv[:,1],color='g',label='canal s')\n",
    "plt.plot(perfil_hsv[:,2],color='b',label='canal v')"
   ]
  },
  {
   "cell_type": "code",
   "execution_count": 90,
   "metadata": {},
   "outputs": [],
   "source": [
    "#Probamos separando el azul nuevamente\n",
    "mask_azules = cv.inRange(img_HSV, (0,120,120),  (9,255,255))\n",
    "arandelas_azules = cv.bitwise_and(img_cut, img_cut, mask=mask_azules)\n",
    "plt.figure(11)\n",
    "plt.imshow(arandelas_azules)\n",
    "plt.show()\n",
    "#Separo bastante bien"
   ]
  },
  {
   "cell_type": "code",
   "execution_count": 96,
   "metadata": {},
   "outputs": [
    {
     "data": {
      "text/plain": [
       "[<matplotlib.lines.Line2D at 0x26b3ac74f10>]"
      ]
     },
     "execution_count": 96,
     "metadata": {},
     "output_type": "execute_result"
    }
   ],
   "source": [
    "#Notamos que el HSV tambien es bueno para separar el celeste\n",
    "#Probamos la columna 187, fila 160 a 200\n",
    "idx_col=187\n",
    "perfil_hsv = img_HSV[:,idx_col]\n",
    "plt.figure(12)\n",
    "plt.plot(perfil_hsv[:,0],color='r',label='canal h')\n",
    "plt.plot(perfil_hsv[:,1],color='g',label='canal s')\n",
    "plt.plot(perfil_hsv[:,2],color='b',label='canal v')"
   ]
  },
  {
   "cell_type": "code",
   "execution_count": 137,
   "metadata": {},
   "outputs": [],
   "source": [
    "#Notamos que el HSV tambien es bueno para separar el celeste\n",
    "mask_celestes = cv.inRange(img_HSV, (10,150,150),  (15,255,255))\n",
    "arandelas_celestes = cv.bitwise_and(img_cut, img_cut, mask=mask_celestes)\n",
    "plt.figure(13)\n",
    "plt.imshow(arandelas_celestes)\n",
    "plt.show()\n",
    "#Separo mas o menos, suficiente"
   ]
  },
  {
   "cell_type": "code",
   "execution_count": 141,
   "metadata": {},
   "outputs": [],
   "source": [
    "#Creo la mascara total 598 797\n",
    "a=180\n",
    "b=797-580\n",
    "c=130\n",
    "d=598-450\n",
    "\n",
    "mask_rojas_total= cv.copyMakeBorder(mask_rojas,a,b,c,d,cv.BORDER_CONSTANT,value=0)\n",
    "mask_naranjas_total= cv.copyMakeBorder(mask_naranjas,a,b,c,d,cv.BORDER_CONSTANT,value=0)\n",
    "mask_azules_total= cv.copyMakeBorder(mask_azules,a,b,c,d,cv.BORDER_CONSTANT,value=0)\n",
    "mask_celestes_total= cv.copyMakeBorder(mask_celestes,a,b,c,d,cv.BORDER_CONSTANT,value=0)\n",
    "mask_total=mask_rojas_total+mask_naranjas_total+mask_azules_total+mask_celestes_total\n",
    "\n",
    "arandelas = cv.bitwise_and(imgRGB, imgRGB, mask=mask_total)\n",
    "\n",
    "plt.figure(14)\n",
    "plt.imshow(arandelas)\n",
    "plt.show()"
   ]
  },
  {
   "cell_type": "code",
   "execution_count": null,
   "metadata": {},
   "outputs": [],
   "source": []
  }
 ],
 "metadata": {
  "kernelspec": {
   "display_name": "Python 3",
   "language": "python",
   "name": "python3"
  },
  "language_info": {
   "codemirror_mode": {
    "name": "ipython",
    "version": 3
   },
   "file_extension": ".py",
   "mimetype": "text/x-python",
   "name": "python",
   "nbconvert_exporter": "python",
   "pygments_lexer": "ipython3",
   "version": "3.8.5"
  }
 },
 "nbformat": 4,
 "nbformat_minor": 2
}

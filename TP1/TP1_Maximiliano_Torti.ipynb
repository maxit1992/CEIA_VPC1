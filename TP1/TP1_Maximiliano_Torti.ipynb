{
 "cells": [
  {
   "cell_type": "markdown",
   "metadata": {
    "slideshow": {
     "slide_type": "slide"
    }
   },
   "source": [
    "# Trabajo Práctico N° 1\n",
    "<br/>\n",
    "\n",
    "## Curso de Especialización en Inteligencia Artificial\n",
    "## Visión por computadora 1\n",
    "<br/>\n",
    "\n",
    "### Autor: Maximiliano Torti\n",
    "### Fecha: 08/05/21\n",
    "<br/>\n",
    "\n",
    "#### Enunciado:<br/>\n",
    "Para las siguientes imágenes:<br/>\n",
    "\n",
    "1- Implementar el algoritmo de pasaje a coordenadas cromáticas para librarnos de las variaciones de contraste. <br/>\n",
    "\n",
    "2- Implementar el algoritmo White Patch para librarnos de las diferencias de color de iluminación.\n",
    "<div style=\"clear: both\">\n",
    "<img src=\"img/CoordCrom_1.png\" style=\"width: 200px;float:left\">\n",
    "<img src=\"img/CoordCrom_2.png\" style=\"width: 200px;float:left\">\n",
    "<img src=\"img/CoordCrom_3.png\" style=\"width: 200px;float:left\">\n",
    "</div>\n",
    "\n",
    "<div style=\"clear: both\">\n",
    "<img src=\"img/WP_B.png\" style=\"width: 200px;float:left\">\n",
    "<img src=\"img/WP_O.png\" style=\"width: 200px;float:left\">\n",
    "<img src=\"img/WP_R.png\" style=\"width: 200px;float:left\">\n",
    "</div>"
   ]
  },
  {
   "cell_type": "code",
   "execution_count": 6,
   "metadata": {},
   "outputs": [
    {
     "name": "stdout",
     "output_type": "stream",
     "text": [
      "Using matplotlib backend: Qt5Agg\n"
     ]
    }
   ],
   "source": [
    "#Cargamos librerias\n",
    "\n",
    "%matplotlib\n",
    "import numpy as np\n",
    "import cv2 as cv\n",
    "import matplotlib.pyplot as plt\n"
   ]
  },
  {
   "cell_type": "code",
   "execution_count": 3,
   "metadata": {},
   "outputs": [],
   "source": [
    "\"\"\"\n",
    "Ejercicio 1\n",
    "\"\"\"\n",
    "\n",
    "#Cargamos imagenes\n",
    "crom1 = cv.imread('img/CoordCrom_1.png')\n",
    "crom1_rgb = cv.cvtColor(crom1, cv.COLOR_BGR2RGB)\n",
    "plt.figure(1)\n",
    "plt.imshow(crom1_rgb)\n",
    "plt.show()\n",
    "\n",
    "crom2 = cv.imread('img/CoordCrom_2.png')\n",
    "crom2_rgb = cv.cvtColor(crom2, cv.COLOR_BGR2RGB)\n",
    "plt.figure(2)\n",
    "plt.imshow(crom2_rgb)\n",
    "plt.show()\n",
    "\n",
    "crom3 = cv.imread('img/CoordCrom_3.png')\n",
    "crom3_rgb = cv.cvtColor(crom3, cv.COLOR_BGR2RGB)\n",
    "plt.figure(3)\n",
    "plt.imshow(crom3_rgb)\n",
    "plt.show()\n"
   ]
  },
  {
   "cell_type": "code",
   "execution_count": 43,
   "metadata": {},
   "outputs": [],
   "source": [
    "#Creamos funcion para corregir la cromancia\n",
    "\"\"\"\n",
    "Function to transform images to chromatic coordinates\n",
    "\n",
    "Args:\n",
    "rgb_image (numpy array): image in RGB array\n",
    "\n",
    "Return:\n",
    "numpy array: image in chromatic coordinates\n",
    "\"\"\"\n",
    "def to_chromatic_coord(rgb_image): \n",
    "    acum_channels=rgb_image.astype('uint16')[:,:,0]+rgb_image.astype('uint16')[:,:,1] + \\\n",
    "                    rgb_image.astype('uint16')[:,:,2]\n",
    "    #Fix to avoid zero division\n",
    "    acum_channels[acum_channels==0]=1\n",
    "    #Recover numpy array third dimmension\n",
    "    acum_channels=acum_channels[:,:,np.newaxis]\n",
    "    max_contrast=255\n",
    "    image_chrom=rgb_image/acum_channels*max_contrast\n",
    "    np.clip(image_chrom,0,255,out=image_chrom)\n",
    "    image_chrom=image_chrom.astype('uint8')\n",
    "    \n",
    "    return image_chrom"
   ]
  },
  {
   "cell_type": "code",
   "execution_count": 45,
   "metadata": {},
   "outputs": [],
   "source": [
    "#Aplicamos funcion a todas las imagenes y vemos resultados\n",
    "img1_chrom=to_chromatic_coord(crom1_rgb)\n",
    "img2_chrom=to_chromatic_coord(crom2_rgb)\n",
    "img3_chrom=to_chromatic_coord(crom3_rgb)\n",
    "\n",
    "fig,axes = plt.subplots(2,3,)\n",
    "axes[0,0].imshow(crom1_rgb)\n",
    "axes[0,1].imshow(crom2_rgb)\n",
    "axes[0,2].imshow(crom3_rgb)\n",
    "axes[1,0].imshow(img1_chrom)\n",
    "axes[1,1].imshow(img2_chrom)\n",
    "axes[1,2].imshow(img3_chrom)\n",
    "plt.show()"
   ]
  },
  {
   "cell_type": "markdown",
   "metadata": {},
   "source": [
    "Se obtienen las siguientes imagenes:\n",
    "\n",
    "<br/>\n",
    "\n",
    "<div style=\"clear: both\">\n",
    "<img src=\"resultados/cromancia1.png\" >\n",
    "</div>\n",
    "\n",
    "<br/>\n",
    "\n",
    "Se observa que se lograron relativamente buenos resultados. <br/>\n",
    "Las últimas dos imágenes se ven muy similares respecto al contraste, en cambio la primer imágen se observa ligeramente más oscura."
   ]
  },
  {
   "cell_type": "code",
   "execution_count": 35,
   "metadata": {},
   "outputs": [],
   "source": [
    "\"\"\"\n",
    "Ejercicio 2\n",
    "\"\"\"\n",
    "\n",
    "#Cargamos imagenes\n",
    "wp_b = cv.imread('img/WP_B.png')\n",
    "wp_b_rgb = cv.cvtColor(wp_b, cv.COLOR_BGR2RGB)\n",
    "plt.figure(4)\n",
    "plt.imshow(wp_b_rgb)\n",
    "plt.show()\n",
    "\n",
    "wp_o = cv.imread('img/WP_O.png')\n",
    "wp_o_rgb = cv.cvtColor(wp_o, cv.COLOR_BGR2RGB)\n",
    "plt.figure(5)\n",
    "plt.imshow(wp_o_rgb)\n",
    "plt.show()\n",
    "\n",
    "wp_r = cv.imread('img/WP_R.png')\n",
    "wp_r_rgb = cv.cvtColor(wp_r, cv.COLOR_BGR2RGB)\n",
    "plt.figure(6)\n",
    "plt.imshow(wp_r_rgb)\n",
    "plt.show()\n"
   ]
  },
  {
   "cell_type": "code",
   "execution_count": 31,
   "metadata": {},
   "outputs": [],
   "source": [
    "#Creamos funcion para aplicar el algoritmo de white-patch\n",
    "\"\"\"\n",
    "White-patch algorithm implementation\n",
    "\n",
    "Args:\n",
    "rgb_image (numpy array): image in RGB array\n",
    "\n",
    "Return:\n",
    "numpy array: image post-processed\n",
    "\"\"\"\n",
    "def white_patch(rgb_image): \n",
    "    max_red=rgb_image[:,:,0].max()\n",
    "    max_green=rgb_image[:,:,1].max()\n",
    "    max_blue=rgb_image[:,:,2].max()\n",
    "    #Fix to avoid zero division\n",
    "    if max_red==0: max_red=1\n",
    "    if max_green==0: max_green=1\n",
    "    if max_blue==0: max_blue=1\n",
    "    #Recover numpy array three dimmensions\n",
    "    max_rgb=np.array([max_red,max_green,max_blue])\n",
    "    max_rgb=max_rgb[np.newaxis,np.newaxis,:]\n",
    "    image_whitened=255*(rgb_image/max_rgb)\n",
    "    np.clip(image_whitened,0,255,out=image_whitened)\n",
    "    image_whitened=image_whitened.astype('uint8')\n",
    "    \n",
    "    return image_whitened"
   ]
  },
  {
   "cell_type": "code",
   "execution_count": 37,
   "metadata": {},
   "outputs": [],
   "source": [
    "#Aplicamos funcion a todas las imagenes y vemos resultados\n",
    "wp_b_whitened=white_patch(wp_b_rgb)\n",
    "wp_o_whitened=white_patch(wp_o_rgb)\n",
    "wp_r_whitened=white_patch(wp_r_rgb)\n",
    "\n",
    "fig,axes = plt.subplots(2,3,)\n",
    "axes[0,0].imshow(wp_b_rgb)\n",
    "axes[0,1].imshow(wp_o_rgb)\n",
    "axes[0,2].imshow(wp_r_rgb)\n",
    "axes[1,0].imshow(wp_b_whitened)\n",
    "axes[1,1].imshow(wp_o_whitened)\n",
    "axes[1,2].imshow(wp_r_whitened)\n",
    "plt.show()"
   ]
  },
  {
   "cell_type": "markdown",
   "metadata": {},
   "source": [
    "Se obtienen las siguientes imagenes:\n",
    "\n",
    "<br/>\n",
    "\n",
    "<div style=\"clear: both\">\n",
    "<img src=\"resultados/white_patch.png\" >\n",
    "</div>\n",
    "\n",
    "<br/>\n",
    "\n",
    "Se observan malos resultados, esto se puede deber a que la luz de fondo tiene diferentes componentes de colores lo cual dificulta aplicar este algoritmo que considera los máximos globales (es decir, de toda la imagen) por cada canal. Una opción sería no utilizar los máximos globales sino los máximos por sectores (pendiente de probar)."
   ]
  }
 ],
 "metadata": {
  "kernelspec": {
   "display_name": "Python 3",
   "language": "python",
   "name": "python3"
  },
  "language_info": {
   "codemirror_mode": {
    "name": "ipython",
    "version": 3
   },
   "file_extension": ".py",
   "mimetype": "text/x-python",
   "name": "python",
   "nbconvert_exporter": "python",
   "pygments_lexer": "ipython3",
   "version": "3.8.5"
  }
 },
 "nbformat": 4,
 "nbformat_minor": 2
}
